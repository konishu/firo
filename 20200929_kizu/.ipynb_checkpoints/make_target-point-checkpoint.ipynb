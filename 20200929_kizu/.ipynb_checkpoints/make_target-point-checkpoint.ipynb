{
 "cells": [
  {
   "cell_type": "code",
   "execution_count": 1,
   "metadata": {},
   "outputs": [],
   "source": [
    "import pandas as pd\n",
    "import numpy as np\n",
    "\n",
    "import glob\n",
    "import os\n",
    "import sys\n",
    "import math\n",
    "from decimal import Decimal, ROUND_HALF_UP"
   ]
  },
  {
   "cell_type": "code",
   "execution_count": 2,
   "metadata": {},
   "outputs": [],
   "source": [
    "def calc_xy(phi_deg, lambda_deg):\n",
    "    #(phi_deg, lambda_deg): 変換したい緯度・経度[度]（分・秒でなく小数であることに注意）\n",
    "    #(phi0_deg, lambda0_deg): 平面直角座標系原点の緯度・経度[度]（分・秒でなく小数であることに注意）\n",
    "    # 緯度経度・平面直角座標系原点をラジアンに直す\n",
    "    phi0_deg = 36.0000\n",
    "    lambda0_deg = 136.0000\n",
    "    phi_rad = np.deg2rad(phi_deg)\n",
    "    lambda_rad = np.deg2rad(lambda_deg)\n",
    "    phi0_rad = np.deg2rad(phi0_deg)\n",
    "    lambda0_rad = np.deg2rad(lambda0_deg)\n",
    "\n",
    "    # 補助関数\n",
    "    def A_array(n):\n",
    "        A0 = 1 + (n**2)/4. + (n**4)/64.\n",
    "        A1 = -     (3./2)*( n - (n**3)/8. - (n**5)/64. ) \n",
    "        A2 =     (15./16)*( n**2 - (n**4)/4. )\n",
    "        A3 = -   (35./48)*( n**3 - (5./16)*(n**5) )\n",
    "        A4 =   (315./512)*( n**4 )\n",
    "        A5 = -(693./1280)*( n**5 )\n",
    "        return np.array([A0, A1, A2, A3, A4, A5])\n",
    "  \n",
    "    def alpha_array(n):\n",
    "        a0 = np.nan # dummy\n",
    "        a1 = (1./2)*n - (2./3)*(n**2) + (5./16)*(n**3) + (41./180)*(n**4) - (127./288)*(n**5)\n",
    "        a2 = (13./48)*(n**2) - (3./5)*(n**3) + (557./1440)*(n**4) + (281./630)*(n**5)\n",
    "        a3 = (61./240)*(n**3) - (103./140)*(n**4) + (15061./26880)*(n**5)\n",
    "        a4 = (49561./161280)*(n**4) - (179./168)*(n**5)\n",
    "        a5 = (34729./80640)*(n**5)\n",
    "        return np.array([a0, a1, a2, a3, a4, a5])\n",
    "\n",
    "    # 定数 (a, F: 世界測地系-測地基準系1980（GRS80）楕円体)\n",
    "    m0 = 0.9999 \n",
    "    a = 6378137.\n",
    "    F = 298.257222101\n",
    "    \n",
    "   #各計算\n",
    "    n = 1. / (2*F - 1)\n",
    "    A_array = A_array(n)\n",
    "    alpha_array = alpha_array(n)\n",
    "        \n",
    "    A_ = ( (m0*a)/(1.+n) )*A_array[0] # [m]\n",
    "    S_ = ( (m0*a)/(1.+n) )*( A_array[0]*phi0_rad + np.dot(A_array[1:], np.sin(2*phi0_rad*np.arange(1,6))) ) # [m]\n",
    "    \n",
    "    lambda_c = np.cos(lambda_rad - lambda0_rad)\n",
    "    lambda_s = np.sin(lambda_rad - lambda0_rad)\n",
    "    \n",
    "    t = np.sinh( np.arctanh(np.sin(phi_rad)) - ((2*np.sqrt(n)) / (1+n))*np.arctanh(((2*np.sqrt(n)) / (1+n)) * np.sin(phi_rad)) )\n",
    "    t_ = np.sqrt(1 + t*t)\n",
    "\n",
    "    xi2  = np.arctan(t / lambda_c) # [rad]\n",
    "    eta2 = np.arctanh(lambda_s / t_)\n",
    "    \n",
    "    # (6) x, yの計算 (x: 変換後の平面直角座標[m] y: 変換後の平面直角座標[m])\n",
    "    x = A_ * (xi2 + np.sum(np.multiply(alpha_array[1:],\n",
    "                                       np.multiply(np.sin(2*xi2*np.arange(1,6)),\n",
    "                                                   np.cosh(2*eta2*np.arange(1,6)))))) - S_ # [m]\n",
    "    y = A_ * (eta2 + np.sum(np.multiply(alpha_array[1:],\n",
    "                                        np.multiply(np.cos(2*xi2*np.arange(1,6)),\n",
    "                                                    np.sinh(2*eta2*np.arange(1,6)))))) # [m]\n",
    "    # return\n",
    "    return x, y # [m]"
   ]
  },
  {
   "cell_type": "code",
   "execution_count": 3,
   "metadata": {},
   "outputs": [],
   "source": [
    "data = pd.read_csv(\"data/target_point.csv\", index_col=0)"
   ]
  },
  {
   "cell_type": "code",
   "execution_count": 4,
   "metadata": {},
   "outputs": [
    {
     "data": {
      "text/html": [
       "<div>\n",
       "<style scoped>\n",
       "    .dataframe tbody tr th:only-of-type {\n",
       "        vertical-align: middle;\n",
       "    }\n",
       "\n",
       "    .dataframe tbody tr th {\n",
       "        vertical-align: top;\n",
       "    }\n",
       "\n",
       "    .dataframe thead th {\n",
       "        text-align: right;\n",
       "    }\n",
       "</style>\n",
       "<table border=\"1\" class=\"dataframe\">\n",
       "  <thead>\n",
       "    <tr style=\"text-align: right;\">\n",
       "      <th></th>\n",
       "      <th>北緯</th>\n",
       "      <th>東経</th>\n",
       "      <th>北緯東経</th>\n",
       "      <th>X座標(6系)</th>\n",
       "      <th>Y座標(6系)</th>\n",
       "      <th>X座標(A基準)</th>\n",
       "      <th>Y座標(A基準)</th>\n",
       "    </tr>\n",
       "    <tr>\n",
       "      <th>地点</th>\n",
       "      <th></th>\n",
       "      <th></th>\n",
       "      <th></th>\n",
       "      <th></th>\n",
       "      <th></th>\n",
       "      <th></th>\n",
       "      <th></th>\n",
       "    </tr>\n",
       "  </thead>\n",
       "  <tbody>\n",
       "    <tr>\n",
       "      <th>A</th>\n",
       "      <td>34.735638</td>\n",
       "      <td>135.840736</td>\n",
       "      <td>34°44'08.3\"N 135°50'26.7\"E</td>\n",
       "      <td>-140251.8033</td>\n",
       "      <td>-14583.70539</td>\n",
       "      <td>0.000000</td>\n",
       "      <td>0.000000</td>\n",
       "    </tr>\n",
       "    <tr>\n",
       "      <th>B</th>\n",
       "      <td>34.735484</td>\n",
       "      <td>135.840736</td>\n",
       "      <td>34°44'07.7\"N 135°50'26.7\"E</td>\n",
       "      <td>-140269.5513</td>\n",
       "      <td>-14583.73350</td>\n",
       "      <td>-17.747968</td>\n",
       "      <td>-0.028109</td>\n",
       "    </tr>\n",
       "    <tr>\n",
       "      <th>C</th>\n",
       "      <td>34.735477</td>\n",
       "      <td>135.840001</td>\n",
       "      <td>34°44'07.7\"N 135°50'24.0\"E</td>\n",
       "      <td>-140269.4437</td>\n",
       "      <td>-14651.49674</td>\n",
       "      <td>-17.640395</td>\n",
       "      <td>-67.791343</td>\n",
       "    </tr>\n",
       "    <tr>\n",
       "      <th>D</th>\n",
       "      <td>34.735408</td>\n",
       "      <td>135.840002</td>\n",
       "      <td>34°44'07.5\"N 135°50'24.0\"E</td>\n",
       "      <td>-140277.2084</td>\n",
       "      <td>-14651.50909</td>\n",
       "      <td>-25.405131</td>\n",
       "      <td>-67.803698</td>\n",
       "    </tr>\n",
       "    <tr>\n",
       "      <th>E</th>\n",
       "      <td>34.735412</td>\n",
       "      <td>135.839942</td>\n",
       "      <td>34°44'07.5\"N 135°50'23.8\"E</td>\n",
       "      <td>-140277.1997</td>\n",
       "      <td>-14657.00341</td>\n",
       "      <td>-25.396387</td>\n",
       "      <td>-73.298019</td>\n",
       "    </tr>\n",
       "  </tbody>\n",
       "</table>\n",
       "</div>"
      ],
      "text/plain": [
       "           北緯          東経                        北緯東経      X座標(6系)  \\\n",
       "地点                                                                   \n",
       "A   34.735638  135.840736  34°44'08.3\"N 135°50'26.7\"E -140251.8033   \n",
       "B   34.735484  135.840736  34°44'07.7\"N 135°50'26.7\"E -140269.5513   \n",
       "C   34.735477  135.840001  34°44'07.7\"N 135°50'24.0\"E -140269.4437   \n",
       "D   34.735408  135.840002  34°44'07.5\"N 135°50'24.0\"E -140277.2084   \n",
       "E   34.735412  135.839942  34°44'07.5\"N 135°50'23.8\"E -140277.1997   \n",
       "\n",
       "        Y座標(6系)   X座標(A基準)   Y座標(A基準)  \n",
       "地点                                     \n",
       "A  -14583.70539   0.000000   0.000000  \n",
       "B  -14583.73350 -17.747968  -0.028109  \n",
       "C  -14651.49674 -17.640395 -67.791343  \n",
       "D  -14651.50909 -25.405131 -67.803698  \n",
       "E  -14657.00341 -25.396387 -73.298019  "
      ]
     },
     "execution_count": 4,
     "metadata": {},
     "output_type": "execute_result"
    }
   ],
   "source": [
    "data.head()"
   ]
  },
  {
   "cell_type": "code",
   "execution_count": 5,
   "metadata": {
    "scrolled": true
   },
   "outputs": [
    {
     "name": "stdout",
     "output_type": "stream",
     "text": [
      "-14583.705393358234\n",
      "-14583.733502553345\n",
      "-14651.496736843572\n",
      "-14651.509091722372\n",
      "-14657.00341268536\n"
     ]
    }
   ],
   "source": [
    "for i in range(len(data)):\n",
    "    phi_deg = data[\"北緯\"][i].round(5)\n",
    "    lambda_deg = data[\"東経\"][i].round(5)\n",
    "#     print(phi_deg, lambda_deg)\n",
    "    x,y = calc_xy(phi_deg, lambda_deg)\n",
    "    print(y)\n",
    "  \n",
    "    \n",
    "    "
   ]
  },
  {
   "cell_type": "markdown",
   "metadata": {},
   "source": [
    "# ⇩\"度分\"のデータから　\"度分秒\"を作る"
   ]
  },
  {
   "cell_type": "code",
   "execution_count": 6,
   "metadata": {},
   "outputs": [
    {
     "name": "stdout",
     "output_type": "stream",
     "text": [
      "['135', '50', '26.64960000007568']\n"
     ]
    }
   ],
   "source": [
    "longnitude = []\n",
    "#経度の計算\n",
    "for i in range(len(data)):\n",
    "    long = data[\"東経\"][i]\n",
    "    rad = int(long)\n",
    "    sec = ((long - int(long))*60)\n",
    "    mi = (sec-sec.round())*60\n",
    "    sec = int(sec.round())\n",
    "    lo = [str(rad),str(sec),str(mi)] \n",
    "    longnitude.append(lo)\n",
    "print(longnitude[1])\n",
    "#     print(str(rad) +str(sec) +\"'\"+ str(mi))"
   ]
  },
  {
   "cell_type": "code",
   "execution_count": 7,
   "metadata": {},
   "outputs": [
    {
     "name": "stdout",
     "output_type": "stream",
     "text": [
      "['34', '44', '7.742399999998497']\n"
     ]
    }
   ],
   "source": [
    "latitude = []\n",
    "# 緯度の計算\n",
    "for i in range(len(data)):\n",
    "    lat = data[\"北緯\"][i]\n",
    "    rad = int(lat)\n",
    "    sec = ((lat - int(lat))*60)\n",
    "    mi = (sec-sec.round())*60\n",
    "    sec = int(sec.round())\n",
    "    la = [str(rad),str(sec),str(mi)] \n",
    "    latitude.append(la)\n",
    "\n",
    "print(latitude[1])\n"
   ]
  },
  {
   "cell_type": "code",
   "execution_count": 8,
   "metadata": {},
   "outputs": [],
   "source": [
    "name = [\"A\",\"B\",\"C\",\"D\",\"E\"]\n"
   ]
  },
  {
   "cell_type": "code",
   "execution_count": 9,
   "metadata": {},
   "outputs": [],
   "source": [
    "location = []\n",
    "for j in range (4):\n",
    "    #経度の計算\n",
    "    longnitude = []\n",
    "    for i in range(len(data)):\n",
    "        long = data[\"東経\"][i]\n",
    "        rad = int(long)\n",
    "        sec = ((long - int(long))*60)\n",
    "        mi = (sec-sec.round())*60\n",
    "        sec = int(sec.round())\n",
    "        lo = [str(rad),str(sec),str(mi)] \n",
    "        longnitude.append(lo)\n",
    "    \n",
    "   \n",
    "    # 緯度の計算\n",
    "    latitude = []\n",
    "    for i in range(len(data)):\n",
    "        lat = data[\"北緯\"][i]\n",
    "        rad = int(lat)\n",
    "        sec = ((lat - int(lat))*60)\n",
    "        mi = (sec-sec.round())*60\n",
    "        sec = int(sec.round())\n",
    "        la = [str(rad),str(sec),str(mi)] \n",
    "        latitude.append(la)\n",
    "    \n",
    "    locate = [latitude[j],longnitude[j]]\n",
    "    location.append(locate)\n",
    "    #     print(str(rad) +str(sec) +\"'\"+ str(mi))\n",
    "    "
   ]
  },
  {
   "cell_type": "code",
   "execution_count": 10,
   "metadata": {},
   "outputs": [
    {
     "name": "stdout",
     "output_type": "stream",
     "text": [
      "[['34', '44', '7.742399999998497'], ['135', '50', '26.64960000007568']]\n"
     ]
    }
   ],
   "source": [
    "print(location[1])"
   ]
  },
  {
   "cell_type": "code",
   "execution_count": null,
   "metadata": {},
   "outputs": [],
   "source": []
  }
 ],
 "metadata": {
  "kernelspec": {
   "display_name": "Python 3",
   "language": "python",
   "name": "python3"
  },
  "language_info": {
   "codemirror_mode": {
    "name": "ipython",
    "version": 3
   },
   "file_extension": ".py",
   "mimetype": "text/x-python",
   "name": "python",
   "nbconvert_exporter": "python",
   "pygments_lexer": "ipython3",
   "version": "3.8.0"
  }
 },
 "nbformat": 4,
 "nbformat_minor": 4
}
