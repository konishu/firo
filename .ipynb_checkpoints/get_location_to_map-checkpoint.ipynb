{
 "cells": [
  {
   "cell_type": "code",
   "execution_count": null,
   "metadata": {},
   "outputs": [],
   "source": [
    "fileslist = sorted(glob.glob('./data/*'))\n",
    "\n",
    "#ヘッダーないので作る\n",
    "header = [\"GPGGA\",\"UTC時間\",\"緯度\",\"北緯or南緯\",\"経度\",\"東経or西経\",\"位置特定品質\",\"補足している衛星数\",\"水平精度低下率\",\"アンテナの海抜高さ\",\"メートル\",\"ジオイド高\",\"メートル\",\"DPGSデータの最後の...\",\"作動基準地点IDとチェックサム\"]\n",
    "altitude = []\n",
    "longnitude = []\n",
    "for i,file in enumerate(fileslist):\n",
    "    df = pd.read_csv(file,engine = \"python\")\n",
    "    df.columns = header\n",
    "    \n",
    "    #経度の計算\n",
    "    long = df[\"経度\"]\n",
    "    sec = (long - long.round())*0.6\n",
    "    long_rad_min_sec = (long.round() + sec)/100\n",
    "    long = long_rad_min_sec.round(5).mode().mean()\n",
    "\n",
    "    long_rad = int(math.modf(long)[1])\n",
    "    long_min = int(math.modf((long-int(long))*100)[1])\n",
    "    long_sec = (sec*100).round(10).mode().mean()\n",
    "    \n",
    "    # 度分秒から度への変換\n",
    "    h_l = long_rad\n",
    "    m_l = long_min\n",
    "    s_l =  long_sec\n",
    "    deg_l = Decimal(str(h_l + (m_l / 60) + (s_l / 3600))).quantize(Decimal('0.00000001'), rounding=ROUND_HALF_UP)\n",
    "\n",
    "    # 緯度の計算\n",
    "    lat = df[\"緯度\"]\n",
    "    sec = (lat - lat.round())*0.6\n",
    "    lat_rad_min_sec = (lat.round() + sec)/100\n",
    "    lat = lat_rad_min_sec.round(5).mode().mean()\n",
    "\n",
    "    lat_rad = int(math.modf(lat)[1])\n",
    "    lat_min = int(math.modf((lat-int(lat))*100)[1])\n",
    "    lat_sec = (sec*100).round(10).mode().mean()\n",
    "    \n",
    "    h_a = lat_rad\n",
    "    m_a = lat_min\n",
    "    s_a =  lat_sec\n",
    "    deg_a = Decimal(str(h_a + (m_a / 60) + (s_a / 3600))).quantize(Decimal('0.00000001'), rounding=ROUND_HALF_UP)\n",
    "    \n",
    "    longnitude.append(float(deg_l))\n",
    "    altitude.append(float(deg_a))\n",
    "    # 度分秒から度への変換\n",
    "#     print(deg_l, deg_a)\n",
    "print(altitude,longnitude)\n",
    "\n",
    "location = []\n",
    "for i in range(len(fileslist)):\n",
    "    print(altitude[i],longnitude[i])\n",
    "#     print(str(lat_rad) +\",\" + str(lat_min) + \",\" +str(lat_sec))\n",
    "\n",
    "#     print(str(lat_rad)+ \"°\" + str(lat_min) + \"'\" + str(lat_sec) , str(long_rad)+ \"°\" + str(long_min) + \"'\" + str(long_sec) +\"これは\" + file +str(i))"
   ]
  }
 ],
 "metadata": {
  "kernelspec": {
   "display_name": "Python 3",
   "language": "python",
   "name": "python3"
  },
  "language_info": {
   "codemirror_mode": {
    "name": "ipython",
    "version": 3
   },
   "file_extension": ".py",
   "mimetype": "text/x-python",
   "name": "python",
   "nbconvert_exporter": "python",
   "pygments_lexer": "ipython3",
   "version": "3.8.0"
  }
 },
 "nbformat": 4,
 "nbformat_minor": 4
}
